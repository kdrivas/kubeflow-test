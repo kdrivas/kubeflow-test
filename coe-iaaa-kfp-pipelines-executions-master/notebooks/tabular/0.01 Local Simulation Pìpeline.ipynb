{
 "cells": [
  {
   "cell_type": "code",
   "execution_count": 1,
   "id": "cc4314a6-3cee-465f-b4a9-ff2bb096b51b",
   "metadata": {},
   "outputs": [
    {
     "name": "stdout",
     "output_type": "stream",
     "text": [
      "/home/jupyter/lazaro_projects/coe-iaaa-kfp-pipelines-executions\n"
     ]
    }
   ],
   "source": [
    "%cd .."
   ]
  },
  {
   "cell_type": "code",
   "execution_count": 2,
   "id": "4ec70811-6203-46f3-b44d-7bc43cc1046d",
   "metadata": {},
   "outputs": [],
   "source": [
    "%load_ext autoreload\n",
    "%autoreload 2"
   ]
  },
  {
   "cell_type": "code",
   "execution_count": 3,
   "id": "c38e1837-1762-4d3b-b90e-c09f2dc98fe2",
   "metadata": {},
   "outputs": [
    {
     "name": "stderr",
     "output_type": "stream",
     "text": [
      "2022-07-11 14:29:07.710047: W tensorflow/stream_executor/platform/default/dso_loader.cc:64] Could not load dynamic library 'libcudart.so.11.0'; dlerror: libcudart.so.11.0: cannot open shared object file: No such file or directory\n",
      "2022-07-11 14:29:07.710092: I tensorflow/stream_executor/cuda/cudart_stub.cc:29] Ignore above cudart dlerror if you do not have a GPU set up on your machine.\n"
     ]
    }
   ],
   "source": [
    "import tensorflow as tf"
   ]
  },
  {
   "cell_type": "code",
   "execution_count": 4,
   "id": "65c004c7-5adb-489c-8e73-034865886360",
   "metadata": {},
   "outputs": [
    {
     "name": "stderr",
     "output_type": "stream",
     "text": [
      "2022-07-11 14:29:10.938442: W tensorflow/stream_executor/platform/default/dso_loader.cc:64] Could not load dynamic library 'libcuda.so.1'; dlerror: libcuda.so.1: cannot open shared object file: No such file or directory\n",
      "2022-07-11 14:29:10.938489: W tensorflow/stream_executor/cuda/cuda_driver.cc:269] failed call to cuInit: UNKNOWN ERROR (303)\n",
      "2022-07-11 14:29:10.938516: I tensorflow/stream_executor/cuda/cuda_diagnostics.cc:156] kernel driver does not appear to be running on this host (ue4-nonprod-notebook2-gvasquet): /proc/driver/nvidia/version does not exist\n",
      "2022-07-11 14:29:10.939986: I tensorflow/core/platform/cpu_feature_guard.cc:151] This TensorFlow binary is optimized with oneAPI Deep Neural Network Library (oneDNN) to use the following CPU instructions in performance-critical operations:  AVX2 FMA\n",
      "To enable them in other operations, rebuild TensorFlow with the appropriate compiler flags.\n"
     ]
    }
   ],
   "source": [
    "from aikfp.ingestamg_simulation import *"
   ]
  },
  {
   "cell_type": "code",
   "execution_count": null,
   "id": "c0c00b4d-806a-4127-9adf-9d74ec33ab5a",
   "metadata": {},
   "outputs": [],
   "source": [
    "#['laft-empresas','payment-projection-empresas','gestion-leads','churn-empresas','score-vehicular-renov-persistencia']\n",
    "id_project='score-vehicular-renov-persistencia'\n",
    "df_train,df_prod=read_datasets(id_project)\n",
    "ml=automl_training(id_project,df_train)\n",
    "mg=save_metadata_mg_exp(df_prod,ml)\n",
    "pd.to_pickle(mg,f'gs://ue4_ndlk_nonprod_stg_gcs_iadev_adsto/tmp/Ronald/projects/coe-iaaaa-iniciatives-model-governance/outputs/{id_project}')"
   ]
  }
 ],
 "metadata": {
  "environment": {
   "kernel": "python3",
   "name": "common-cpu.m94",
   "type": "gcloud",
   "uri": "gcr.io/deeplearning-platform-release/base-cpu:m94"
  },
  "kernelspec": {
   "display_name": "Python 3",
   "language": "python",
   "name": "python3"
  },
  "language_info": {
   "codemirror_mode": {
    "name": "ipython",
    "version": 3
   },
   "file_extension": ".py",
   "mimetype": "text/x-python",
   "name": "python",
   "nbconvert_exporter": "python",
   "pygments_lexer": "ipython3",
   "version": "3.7.12"
  }
 },
 "nbformat": 4,
 "nbformat_minor": 5
}
