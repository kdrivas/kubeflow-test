{
 "cells": [
  {
   "cell_type": "code",
   "execution_count": 1,
   "id": "cfdcc120-bc33-4598-8c09-7fe30084558f",
   "metadata": {},
   "outputs": [
    {
     "name": "stdout",
     "output_type": "stream",
     "text": [
      "/home/jupyter/projects/coe-iaaa-kfp-pipelines-executions\n"
     ]
    }
   ],
   "source": [
    "%cd .."
   ]
  },
  {
   "cell_type": "code",
   "execution_count": 2,
   "id": "08c913b9-cab2-4df7-8a3b-457a3c82c324",
   "metadata": {},
   "outputs": [],
   "source": [
    "%load_ext autoreload\n",
    "%autoreload 2"
   ]
  },
  {
   "cell_type": "code",
   "execution_count": 3,
   "id": "063ca12c-0b3f-4ff9-b36a-a45912dc2d3c",
   "metadata": {},
   "outputs": [],
   "source": [
    "import os\n",
    "from dotenv import load_dotenv\n",
    "# os.environ.clear()\n",
    "load_dotenv('env', override=True)\n",
    "load_dotenv('env.secret', override=True) # Ignored in git\n",
    "from google.cloud.aiplatform import get_pipeline_df"
   ]
  },
  {
   "cell_type": "code",
   "execution_count": 5,
   "id": "a9290591-f159-43b5-b3e0-9de8c4054dfd",
   "metadata": {},
   "outputs": [
    {
     "ename": "ValueError",
     "evalue": "Please provide a valid pipeline name. gestion-leads-0-2-0-prediction-20220618120057 is not a pipeline.",
     "output_type": "error",
     "traceback": [
      "\u001b[0;31m---------------------------------------------------------------------------\u001b[0m",
      "\u001b[0;31mValueError\u001b[0m                                Traceback (most recent call last)",
      "\u001b[0;32m/tmp/ipykernel_1775/3721261663.py\u001b[0m in \u001b[0;36m<module>\u001b[0;34m\u001b[0m\n\u001b[0;32m----> 1\u001b[0;31m \u001b[0mpipeline_df\u001b[0m \u001b[0;34m=\u001b[0m \u001b[0mget_pipeline_df\u001b[0m\u001b[0;34m(\u001b[0m\u001b[0mpipeline\u001b[0m\u001b[0;34m=\u001b[0m\u001b[0;34m'gestion-leads-0-2-0-prediction-20220618120057'\u001b[0m\u001b[0;34m)\u001b[0m\u001b[0;34m\u001b[0m\u001b[0;34m\u001b[0m\u001b[0m\n\u001b[0m",
      "\u001b[0;32m/opt/conda/lib/python3.7/site-packages/google/cloud/aiplatform/metadata/metadata.py\u001b[0m in \u001b[0;36mget_pipeline_df\u001b[0;34m(pipeline)\u001b[0m\n\u001b[1;32m     65\u001b[0m         pipeline_resource_name = (\n\u001b[1;32m     66\u001b[0m             _LegacyExperimentService._get_experiment_or_pipeline_resource_name(\n\u001b[0;32m---> 67\u001b[0;31m                 \u001b[0mname\u001b[0m\u001b[0;34m=\u001b[0m\u001b[0mpipeline\u001b[0m\u001b[0;34m,\u001b[0m \u001b[0msource\u001b[0m\u001b[0;34m=\u001b[0m\u001b[0msource\u001b[0m\u001b[0;34m,\u001b[0m \u001b[0mexpected_schema\u001b[0m\u001b[0;34m=\u001b[0m\u001b[0mconstants\u001b[0m\u001b[0;34m.\u001b[0m\u001b[0mSYSTEM_PIPELINE\u001b[0m\u001b[0;34m\u001b[0m\u001b[0;34m\u001b[0m\u001b[0m\n\u001b[0m\u001b[1;32m     68\u001b[0m             )\n\u001b[1;32m     69\u001b[0m         )\n",
      "\u001b[0;32m/opt/conda/lib/python3.7/site-packages/google/cloud/aiplatform/metadata/metadata.py\u001b[0m in \u001b[0;36m_get_experiment_or_pipeline_resource_name\u001b[0;34m(name, source, expected_schema)\u001b[0m\n\u001b[1;32m    100\u001b[0m         \u001b[0;32mif\u001b[0m \u001b[0mthis_context\u001b[0m\u001b[0;34m.\u001b[0m\u001b[0mschema_title\u001b[0m \u001b[0;34m!=\u001b[0m \u001b[0mexpected_schema\u001b[0m\u001b[0;34m:\u001b[0m\u001b[0;34m\u001b[0m\u001b[0;34m\u001b[0m\u001b[0m\n\u001b[1;32m    101\u001b[0m             raise ValueError(\n\u001b[0;32m--> 102\u001b[0;31m                 \u001b[0;34mf\"Please provide a valid {source} name. {name} is not a {source}.\"\u001b[0m\u001b[0;34m\u001b[0m\u001b[0;34m\u001b[0m\u001b[0m\n\u001b[0m\u001b[1;32m    103\u001b[0m             )\n\u001b[1;32m    104\u001b[0m         \u001b[0;32mreturn\u001b[0m \u001b[0mthis_context\u001b[0m\u001b[0;34m.\u001b[0m\u001b[0mresource_name\u001b[0m\u001b[0;34m\u001b[0m\u001b[0;34m\u001b[0m\u001b[0m\n",
      "\u001b[0;31mValueError\u001b[0m: Please provide a valid pipeline name. gestion-leads-0-2-0-prediction-20220618120057 is not a pipeline."
     ]
    }
   ],
   "source": [
    "pipeline_df = get_pipeline_df(pipeline='gestion-leads-0-2-0-prediction-20220618120057')\n"
   ]
  }
 ],
 "metadata": {
  "environment": {
   "kernel": "python3",
   "name": "common-cpu.m94",
   "type": "gcloud",
   "uri": "gcr.io/deeplearning-platform-release/base-cpu:m94"
  },
  "kernelspec": {
   "display_name": "Python 3",
   "language": "python",
   "name": "python3"
  },
  "language_info": {
   "codemirror_mode": {
    "name": "ipython",
    "version": 3
   },
   "file_extension": ".py",
   "mimetype": "text/x-python",
   "name": "python",
   "nbconvert_exporter": "python",
   "pygments_lexer": "ipython3",
   "version": "3.7.12"
  }
 },
 "nbformat": 4,
 "nbformat_minor": 5
}
